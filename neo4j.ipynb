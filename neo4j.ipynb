{
 "cells": [
  {
   "cell_type": "code",
   "execution_count": 3,
   "metadata": {},
   "outputs": [],
   "source": [
    "# Import packages\n",
    "from py2neo import Graph\n",
    "import pandas as pd"
   ]
  },
  {
   "attachments": {},
   "cell_type": "markdown",
   "metadata": {},
   "source": [
    "Note: You need to create a neo4j database instance in your machine to run this code "
   ]
  },
  {
   "cell_type": "code",
   "execution_count": 2,
   "metadata": {},
   "outputs": [],
   "source": [
    "# Set-up database \n",
    "\n",
    "# Parameters\n",
    "YOUR_PASSWORD: str = \"password\"\n",
    "YOUR_PORT: int = 7687 \n",
    "\n",
    "# Connect to database \n",
    "graph = Graph(f\"bolt://localhost:{YOUR_PORT}\",password=YOUR_PASSWORD)\n",
    "graph.run('match (n) detach delete n') # Drops all data\n",
    "try:\n",
    "    indexes = graph.run('show indexes yield name').to_data_frame()['name'] # drops all indices\n",
    "    for index in indexes:\n",
    "        graph.run(f'drop index {index}')\n",
    "except:\n",
    "    pass\n"
   ]
  },
  {
   "cell_type": "code",
   "execution_count": 4,
   "metadata": {},
   "outputs": [
    {
     "data": {
      "text/html": [
       "<div>\n",
       "<style scoped>\n",
       "    .dataframe tbody tr th:only-of-type {\n",
       "        vertical-align: middle;\n",
       "    }\n",
       "\n",
       "    .dataframe tbody tr th {\n",
       "        vertical-align: top;\n",
       "    }\n",
       "\n",
       "    .dataframe thead th {\n",
       "        text-align: right;\n",
       "    }\n",
       "</style>\n",
       "<table border=\"1\" class=\"dataframe\">\n",
       "  <thead>\n",
       "    <tr style=\"text-align: right;\">\n",
       "      <th></th>\n",
       "      <th>id</th>\n",
       "      <th>name</th>\n",
       "      <th>description</th>\n",
       "    </tr>\n",
       "  </thead>\n",
       "  <tbody>\n",
       "    <tr>\n",
       "      <th>0</th>\n",
       "      <td>0</td>\n",
       "      <td>Still Life</td>\n",
       "      <td>A still life (plural: still lifes) is a work o...</td>\n",
       "    </tr>\n",
       "    <tr>\n",
       "      <th>1</th>\n",
       "      <td>1</td>\n",
       "      <td>Portraits</td>\n",
       "      <td>A portrait is a painting, photograph, sculptur...</td>\n",
       "    </tr>\n",
       "  </tbody>\n",
       "</table>\n",
       "</div>"
      ],
      "text/plain": [
       "   id        name                                        description\n",
       "0   0  Still Life  A still life (plural: still lifes) is a work o...\n",
       "1   1   Portraits  A portrait is a painting, photograph, sculptur..."
      ]
     },
     "execution_count": 4,
     "metadata": {},
     "output_type": "execute_result"
    }
   ],
   "source": [
    "# Import data\n",
    "\n",
    "## Specialization\n",
    "specialization = pd.read_parquet('https://kuleuven-datathon-2023.s3.eu-central-1.amazonaws.com/data/Specialization.parquet.gzip')\n",
    "specialization.head(2)"
   ]
  }
 ],
 "metadata": {
  "kernelspec": {
   "display_name": "Python 3.9.5 ('datathon_2023_stat_env')",
   "language": "python",
   "name": "python3"
  },
  "language_info": {
   "codemirror_mode": {
    "name": "ipython",
    "version": 3
   },
   "file_extension": ".py",
   "mimetype": "text/x-python",
   "name": "python",
   "nbconvert_exporter": "python",
   "pygments_lexer": "ipython3",
   "version": "3.9.5"
  },
  "orig_nbformat": 4,
  "vscode": {
   "interpreter": {
    "hash": "5c7fad0b5b19b7eb5f847b6219180fce2dca481dd83156b0cbf75824ac711380"
   }
  }
 },
 "nbformat": 4,
 "nbformat_minor": 2
}
